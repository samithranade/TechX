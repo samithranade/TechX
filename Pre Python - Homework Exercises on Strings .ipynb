{
 "cells": [
  {
   "cell_type": "code",
   "execution_count": 1,
   "id": "80af7151",
   "metadata": {},
   "outputs": [
    {
     "name": "stdout",
     "output_type": "stream",
     "text": [
      "Azad and Bhagat, the two founders of the Hindustan Socialist Revolutionary Party (1928) had made a pact with death to free India from the British rule. They shared a deep bond of friendship.\n",
      "Azad and Bhagat, the two founders of the Hindustan Socialist Revolutionary Party (1928) had made a pact with death to free India from the British rule. They shared a deep bond of friendship.\n",
      "Azad and Bhagat, the two founders of the Hindustan Socialist Revolutionary Party (1928) had made a pact with death to free India from the British rule. They shared a deep bond of friendship.\n"
     ]
    }
   ],
   "source": [
    "# Question 1\n",
    "\n",
    "S = 'Azad and Bhagat, the two founders of the Hindustan Socialist Revolutionary Party (1928) had made a pact with death to free India from the British rule. They shared a deep bond of friendship.'\n",
    "D = \"Azad and Bhagat, the two founders of the Hindustan Socialist Revolutionary Party (1928) had made a pact with death to free India from the British rule. They shared a deep bond of friendship.\"\n",
    "T = '''Azad and Bhagat, the two founders of the Hindustan Socialist Revolutionary Party (1928) had made a pact with death to free India from the British rule. They shared a deep bond of friendship.'''\n",
    "print(S)\n",
    "print(D)\n",
    "print(T)"
   ]
  },
  {
   "cell_type": "code",
   "execution_count": 2,
   "id": "2a820fc4",
   "metadata": {},
   "outputs": [
    {
     "name": "stdout",
     "output_type": "stream",
     "text": [
      "Python Class \n",
      "Type of string is <class 'str'>\n"
     ]
    }
   ],
   "source": [
    "# Question 2\n",
    "\n",
    "string = \"Python Class\"\n",
    "print(string,\"\\nType of string is\",(type(string)))"
   ]
  },
  {
   "cell_type": "code",
   "execution_count": 3,
   "id": "eef4feed",
   "metadata": {},
   "outputs": [
    {
     "name": "stdout",
     "output_type": "stream",
     "text": [
      "Index of is 7\n",
      "Index of f 10\n",
      "Index of   6\n",
      "Index of n 5\n",
      "Index of R -1\n",
      "Index of is 7\n",
      "Index of f 10\n",
      "Index of   0\n",
      "Index of n 5\n"
     ]
    }
   ],
   "source": [
    "# Question 3\n",
    "\n",
    "s = \"Python is fun\"\n",
    "#using find()\n",
    "print(\"Index of is\", s.find(\"is\"))\n",
    "print(\"Index of f\", s.find(\"f\"))\n",
    "print(\"Index of  \", s.find(\" \"))\n",
    "print(\"Index of n\", s.find(\"n\"))\n",
    "print(\"Index of R\", s.find(\"R\"))\n",
    "\n",
    "# Using index()\n",
    "print(\"Index of is\",s.index(\"is\"))\n",
    "print(\"Index of f\", s.index(\"f\"))\n",
    "print(\"Index of  \", s.index(\"\"))\n",
    "print(\"Index of n\", s.index(\"n\"))\n",
    "#print(\"Index of R\", s.index(\"R\"))"
   ]
  },
  {
   "cell_type": "code",
   "execution_count": 4,
   "id": "f6adb555",
   "metadata": {},
   "outputs": [
    {
     "name": "stdout",
     "output_type": "stream",
     "text": [
      "E\n",
      "y\n",
      "a\n",
      "d\n",
      " \n"
     ]
    }
   ],
   "source": [
    "# Question 4\n",
    "\n",
    "m = \"Eat a apple everyday\"\n",
    "print(m[0])\n",
    "print(m[-1]) # OR print(m[-4])\n",
    "print(m[-2])\n",
    "print(m[-3])\n",
    "print(m[3])"
   ]
  },
  {
   "cell_type": "code",
   "execution_count": 5,
   "id": "6caa6b2d",
   "metadata": {},
   "outputs": [
    {
     "data": {
      "text/plain": [
       "13"
      ]
     },
     "execution_count": 5,
     "metadata": {},
     "output_type": "execute_result"
    }
   ],
   "source": [
    "# Question 5\n",
    "\n",
    "string = \"Hello, World!\"\n",
    "len(string)"
   ]
  },
  {
   "cell_type": "code",
   "execution_count": 6,
   "id": "89686c5a",
   "metadata": {},
   "outputs": [
    {
     "name": "stdout",
     "output_type": "stream",
     "text": [
      "Word 'free' is present in the text - True\n",
      "Word 'Mov' is present in the text - False\n"
     ]
    }
   ],
   "source": [
    "# Question 6\n",
    "\n",
    "text = \"Best things in life are free!\"\n",
    "print(\"Word \\'free\\' is present in the text -\",\"free\" in text )\n",
    "print(\"Word \\'Mov\\' is present in the text -\",\"Mov\" in text )"
   ]
  },
  {
   "cell_type": "code",
   "execution_count": 12,
   "id": "4980be75",
   "metadata": {},
   "outputs": [
    {
     "name": "stdout",
     "output_type": "stream",
     "text": [
      "Enter String :rjdyckuyjgvik\n",
      "r u k\n",
      "ruk\n"
     ]
    }
   ],
   "source": [
    "# Question 7\n",
    "\n",
    "string = a = input(\"Enter String :\")\n",
    "print(a[0],a[len(a)//2],a[-1])\n",
    "# OR \n",
    "print(a[0]+a[int(len(a)/2)]+a[-1])"
   ]
  },
  {
   "cell_type": "code",
   "execution_count": 11,
   "id": "83847ac7",
   "metadata": {},
   "outputs": [
    {
     "name": "stdout",
     "output_type": "stream",
     "text": [
      "Enter String : Python\n",
      "tho\n",
      "tho\n"
     ]
    }
   ],
   "source": [
    "# Question 8\n",
    "\n",
    "a = input(\"Enter String : \")\n",
    "n = (len(a)//2)\n",
    "\n",
    "print(a[n-1]+a[n]+a[n+1])\n",
    "# OR using slicing\n",
    "print(a[n-1:n+2])"
   ]
  },
  {
   "cell_type": "code",
   "execution_count": 9,
   "id": "9030d3be",
   "metadata": {},
   "outputs": [
    {
     "name": "stdout",
     "output_type": "stream",
     "text": [
      "AuKellylt\n"
     ]
    }
   ],
   "source": [
    "# Question 9\n",
    "\n",
    "s1, s2 = \"Ault\", \"Kelly\"\n",
    "print(s1[:2]+s2[::]+s1[2:4])\n"
   ]
  },
  {
   "cell_type": "code",
   "execution_count": 10,
   "id": "af4a8d35",
   "metadata": {},
   "outputs": [
    {
     "name": "stdout",
     "output_type": "stream",
     "text": [
      "Enter String :malayalam\n",
      "Reverse of malayalam is malayalam\n"
     ]
    }
   ],
   "source": [
    "# Question 10\n",
    "\n",
    "str1 = input(\"Enter String :\")\n",
    "print(\"Reverse of\",str1, \"is\", str1[::-1])"
   ]
  },
  {
   "cell_type": "code",
   "execution_count": null,
   "id": "c33f3bcc",
   "metadata": {},
   "outputs": [],
   "source": []
  }
 ],
 "metadata": {
  "kernelspec": {
   "display_name": "Python 3",
   "language": "python",
   "name": "python3"
  },
  "language_info": {
   "codemirror_mode": {
    "name": "ipython",
    "version": 3
   },
   "file_extension": ".py",
   "mimetype": "text/x-python",
   "name": "python",
   "nbconvert_exporter": "python",
   "pygments_lexer": "ipython3",
   "version": "3.8.8"
  }
 },
 "nbformat": 4,
 "nbformat_minor": 5
}
