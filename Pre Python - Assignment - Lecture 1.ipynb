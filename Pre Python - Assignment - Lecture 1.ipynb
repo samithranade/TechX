{
 "cells": [
  {
   "cell_type": "markdown",
   "id": "6ad0f965",
   "metadata": {},
   "source": [
    "# Homework Sheet - Assignment - Lecture 1"
   ]
  },
  {
   "cell_type": "code",
   "execution_count": 9,
   "id": "bc5da2bc",
   "metadata": {},
   "outputs": [
    {
     "name": "stdout",
     "output_type": "stream",
     "text": [
      "Value of a is 10 \n",
      "Value of b is 10 \n",
      "Value of c is 10\n",
      "TechX TechX TechX\n"
     ]
    }
   ],
   "source": [
    "#Question 1\n",
    "\n",
    "a=b=c=10\n",
    "print(\"Value of a is\",a, \"\\nValue of b is\",b, \"\\nValue of c is\" ,c)\n",
    "\n",
    "s=t=u=\"TechX\"\n",
    "print(s, t, u)"
   ]
  },
  {
   "cell_type": "code",
   "execution_count": 10,
   "id": "029ce7e7",
   "metadata": {},
   "outputs": [
    {
     "name": "stdout",
     "output_type": "stream",
     "text": [
      "1\n",
      "2\n",
      "3\n"
     ]
    }
   ],
   "source": [
    "#Question 2\n",
    "\n",
    "x,y,z = 1,2,3\n",
    "print(x)\n",
    "print(y)\n",
    "print(z)"
   ]
  },
  {
   "cell_type": "code",
   "execution_count": 16,
   "id": "bab53328",
   "metadata": {},
   "outputs": [
    {
     "name": "stdout",
     "output_type": "stream",
     "text": [
      "Univ\n"
     ]
    }
   ],
   "source": [
    "#Question 3\n",
    "#d = 100\n",
    "#d = \"Univ\"\n",
    "print(d)"
   ]
  },
  {
   "cell_type": "code",
   "execution_count": 20,
   "id": "82e42294",
   "metadata": {},
   "outputs": [
    {
     "name": "stdout",
     "output_type": "stream",
     "text": [
      "Jupyter Notebook\n"
     ]
    }
   ],
   "source": [
    "#Question 4\n",
    "\n",
    "e = \"Jupyter \"\n",
    "f = \"Notebook\"\n",
    "print(e+f)"
   ]
  },
  {
   "cell_type": "code",
   "execution_count": 23,
   "id": "d0c8b395",
   "metadata": {},
   "outputs": [],
   "source": [
    "#Question 5\n",
    "\n",
    "g = \"Test\"\n",
    "h = 5\n",
    "#print(g+h)\n",
    "\n",
    "#Python can add 2 varibles of same data type. \"TypeError: can only concatenate str (not \"int\") to str\""
   ]
  },
  {
   "cell_type": "code",
   "execution_count": 95,
   "id": "1214d6ac",
   "metadata": {},
   "outputs": [
    {
     "name": "stdout",
     "output_type": "stream",
     "text": [
      "7.0\n"
     ]
    }
   ],
   "source": [
    "#Question 6\n",
    "\n",
    "Simplify = float(18-6*5/2+4)\n",
    "ans = round(Simplify,2)\n",
    "print(ans) \n",
    "    #OR\n",
    "#float(18-6*5/2+4)\n",
    "\n",
    "#How to display upto 2 decimal places; need to fig out."
   ]
  },
  {
   "cell_type": "code",
   "execution_count": 29,
   "id": "dc61786e",
   "metadata": {},
   "outputs": [
    {
     "name": "stdout",
     "output_type": "stream",
     "text": [
      "Enter value of i: 0\n",
      "Enter value of j: 0\n",
      "Sum = 0.0\n",
      "Difference = 0.0\n",
      "Product = 0.0\n",
      "Division can't be done\n"
     ]
    }
   ],
   "source": [
    "#Question 7\n",
    "\n",
    "i = float(input(\"Enter value of i: \"))\n",
    "j = float(input(\"Enter value of j: \"))\n",
    "print(\"Sum =\", i+j)\n",
    "print(\"Difference =\", i-j)\n",
    "print(\"Product =\", i*j)\n",
    "if j == 0:\n",
    "    print(\"Division can't be done\")\n",
    "else:\n",
    "    print(\"Quotient =\", i/j)"
   ]
  },
  {
   "cell_type": "code",
   "execution_count": 32,
   "id": "c8652f3a",
   "metadata": {},
   "outputs": [
    {
     "name": "stdout",
     "output_type": "stream",
     "text": [
      "Data type of 12 is <class 'int'>\n",
      "Data type of 2.345 is <class 'float'>\n",
      "Data type of Your name is <class 'str'>\n",
      "Data type of (2+3.4j) is <class 'complex'>\n"
     ]
    }
   ],
   "source": [
    "#Question 8\n",
    "\n",
    "Integer = 12\n",
    "Float = 2.345\n",
    "String = \"Your name\"\n",
    "Complex = 2+3.4j\n",
    "print(\"Data type of\", Integer, \"is\", type(Integer))\n",
    "print(\"Data type of\", Float, \"is\", type(Float))\n",
    "print(\"Data type of\", String, \"is\", type(String))\n",
    "print(\"Data type of\", Complex, \"is\", type(Complex))"
   ]
  },
  {
   "cell_type": "code",
   "execution_count": 42,
   "id": "14e1ea01",
   "metadata": {
    "scrolled": true
   },
   "outputs": [
    {
     "name": "stdout",
     "output_type": "stream",
     "text": [
      "(6+6j)\n"
     ]
    }
   ],
   "source": [
    "#Question 9\n",
    "\n",
    "n1 = 1+2j\n",
    "n2 = 5+4j\n",
    "Sum = n1+n2\n",
    "print(Sum)"
   ]
  },
  {
   "cell_type": "code",
   "execution_count": 46,
   "id": "c978113a",
   "metadata": {},
   "outputs": [
    {
     "name": "stdout",
     "output_type": "stream",
     "text": [
      "Enter 1st Number10\n",
      "Enter 2nd Number2\n",
      "Type of 1st No. <class 'str'>\n",
      "Type of 2nd No. <class 'str'>\n",
      "Sum = 12.0\n",
      "Difference = 8.0\n",
      "Product = 20.0\n",
      "Quotient = 5.0\n",
      "Exponent = 100.0\n",
      "Modulus = 0.0\n",
      "Floor Division = 5.0\n"
     ]
    }
   ],
   "source": [
    "#Question 10\n",
    "\n",
    "in1 = inputnum1 = input(\"Enter 1st Number\")\n",
    "in2 = inputnum2 = input(\"Enter 2nd Number\")\n",
    "print(\"Type of 1st No.\", type(inputnum1))\n",
    "print(\"Type of 2nd No.\", type(inputnum2))\n",
    "\"\"\"\n",
    "# Before Type Casting ---> cannot perform any operation\n",
    "\n",
    "print(\"Sum =\", in1+in2)\n",
    "print(\"Difference =\", in1-in2)\n",
    "print(\"Product =\", in1*in2)\n",
    "if in2 == 0:\n",
    "    print(\"Division can't be done\")\n",
    "else:\n",
    "    print(\"Quotient =\", in1/in2)\n",
    "print(\"Exponent =\", in1**in2)\n",
    "print(\"Modulus =\", in1%in2)\n",
    "print(\"Floor Division =\", in1//in2)\"\"\"\n",
    "\n",
    "in1 = float(in1)\n",
    "in2 = float(in2)\n",
    "\n",
    "print(\"Sum =\", in1+in2)\n",
    "print(\"Difference =\", in1-in2)\n",
    "print(\"Product =\", in1*in2)\n",
    "if in2 == 0:\n",
    "    print(\"Division can't be done\")\n",
    "else:\n",
    "    print(\"Quotient =\", in1/in2)\n",
    "print(\"Exponent =\", in1**in2)\n",
    "print(\"Modulus =\", in1%in2)\n",
    "print(\"Floor Division =\", in1//in2)"
   ]
  },
  {
   "cell_type": "code",
   "execution_count": 96,
   "id": "abb8c634",
   "metadata": {},
   "outputs": [
    {
     "name": "stdout",
     "output_type": "stream",
     "text": [
      "Enter 1st Number10\n",
      "Enter 2nd Number12\n",
      "Exponent = 1000000000000.0\n",
      "Modulus = 10.0\n",
      "Floor Division = 0.0\n"
     ]
    }
   ],
   "source": [
    "in1 = inputnum1 = input(\"Enter 1st Number\")\n",
    "in2 = inputnum2 = input(\"Enter 2nd Number\")\n",
    "in1 = float(in1)\n",
    "in2 = float(in2)\n",
    "print(\"Exponent =\", in1**in2)\n",
    "print(\"Modulus =\", in1%in2)\n",
    "print(\"Floor Division =\", in1//in2)"
   ]
  },
  {
   "cell_type": "code",
   "execution_count": 47,
   "id": "1a3d9e05",
   "metadata": {},
   "outputs": [],
   "source": [
    "#Question 11\n",
    "\n",
    "myfiltereddata = \"My Filtered Data\"\n",
    "\n",
    "#Camel Case\n",
    "myFilteredData = \"My Filtered Data\"\n",
    "\n",
    "#Pascal Case\n",
    "MyFilteredData = \"My Filtered Data\"\n",
    "\n",
    "#Snake Case\n",
    "my_filtered_data = \"My Filtered Data\"\n",
    "\n",
    "#All are fovourite. I find Snake case little easy to ready since words are seperated by underscore "
   ]
  },
  {
   "cell_type": "code",
   "execution_count": 87,
   "id": "56f7c752",
   "metadata": {},
   "outputs": [
    {
     "name": "stdout",
     "output_type": "stream",
     "text": [
      "Enter value of x : jk\n",
      "<class 'str'>\n",
      "Enter value of y : j\n",
      "<class 'complex'>\n"
     ]
    }
   ],
   "source": [
    "#Question 12\n",
    "\n",
    "# Question 12 a) \n",
    "# implicit\n",
    "x = input(\"Enter value of x : \")\n",
    "print(type(x))\n",
    "\n",
    "# Explicit\n",
    "y = complex(input(\"Enter value of y : \"))\n",
    "print(type(y))"
   ]
  },
  {
   "cell_type": "markdown",
   "id": "853dd805",
   "metadata": {},
   "source": [
    "#Question 12 b)\n",
    "\n",
    "\"\"\"In Implicit casting, system assigns the data type to variable automatically\n",
    "In Explicit casting, user assigns the data type to varible.\n",
    "\n",
    "Explicit casting preferred over implicit, since user can define datatypes based on their requirement eliminating ambiguity.\"\"\""
   ]
  },
  {
   "cell_type": "code",
   "execution_count": 50,
   "id": "071e86eb",
   "metadata": {},
   "outputs": [
    {
     "name": "stdout",
     "output_type": "stream",
     "text": [
      "Value of a  2\n",
      "Value of b  5\n",
      "Value of a after swapping  5\n",
      "Value of b after swapping  2\n"
     ]
    }
   ],
   "source": [
    "#Question 13\n",
    "\n",
    "a = 2\n",
    "b = 5\n",
    "print(\"Value of a \",a)\n",
    "print(\"Value of b \",b)\n",
    "a,b = b,a\n",
    "print(\"Value of a after swapping \",a)\n",
    "print(\"Value of b after swapping \",b)\n"
   ]
  },
  {
   "cell_type": "code",
   "execution_count": 52,
   "id": "bb8ba84b",
   "metadata": {},
   "outputs": [
    {
     "name": "stdout",
     "output_type": "stream",
     "text": [
      "Same value single line python statement\n",
      "Same value single line python statement\n",
      "Same value single line python statement\n",
      "10\n",
      "20\n",
      "30\n"
     ]
    }
   ],
   "source": [
    "#Question 14\n",
    "# a)\n",
    "a1 = a2 = a3 = \"Same value single line python statement\"\n",
    "\n",
    "# b)\n",
    "b1,b2,b3 = 10,20,30\n",
    "\n",
    "print(a1)\n",
    "print(a2)\n",
    "print(a3)\n",
    "print(b1)\n",
    "print(b2)\n",
    "print(b3)"
   ]
  },
  {
   "cell_type": "code",
   "execution_count": 99,
   "id": "41bf7e9f",
   "metadata": {},
   "outputs": [
    {
     "name": "stdout",
     "output_type": "stream",
     "text": [
      "Enter 1st variable 10\n",
      "Enter 2nd variable 10\n",
      "Enter 3rd variable 2\n",
      "1st variable ie. l = 10.0 is the largest\n"
     ]
    }
   ],
   "source": [
    "#Question 15\n",
    "\n",
    "l = float(input(\"Enter 1st variable \"))\n",
    "m = float(input(\"Enter 2nd variable \"))\n",
    "n = float(input(\"Enter 3rd variable \"))\n",
    "if l>=m and l>=n:\n",
    "    print(\"1st variable ie. l =\", l, \"is the largest\")\n",
    "elif m>=l and m>=n:\n",
    "    print(\"2nd Variable ie. m =\", m, \"is the largest\")\n",
    "else:\n",
    "    print(\"3rd Variable ie. n =\", n, \"is the largest\")"
   ]
  },
  {
   "cell_type": "code",
   "execution_count": 102,
   "id": "103e1768",
   "metadata": {},
   "outputs": [
    {
     "name": "stdout",
     "output_type": "stream",
     "text": [
      "Enter value 1st variable 100\n",
      "Enter value 2nd variable -100\n",
      "Enter value 3rd variable 99\n",
      "largest No. is  100.0\n"
     ]
    }
   ],
   "source": [
    "l = float(input(\"Enter value 1st variable \"))\n",
    "m = float(input(\"Enter value 2nd variable \"))\n",
    "n = float(input(\"Enter value 3rd variable \"))\n",
    "largest = max(l,m,n)\n",
    "print(\"Largest No. is \", largest)"
   ]
  },
  {
   "cell_type": "code",
   "execution_count": 80,
   "id": "32e18cc1",
   "metadata": {},
   "outputs": [
    {
     "name": "stdout",
     "output_type": "stream",
     "text": [
      "Enter the no. to find the square root225\n",
      "Square root of 225.0 is 15.0\n"
     ]
    }
   ],
   "source": [
    "#Question 16\n",
    "\n",
    "import math\n",
    "\n",
    "n = float(input(\"Enter the no. to find the square root \"))\n",
    "sqrt = math.sqrt(n)\n",
    "print(\"Square root of\", n, \"is\", sqrt)"
   ]
  },
  {
   "cell_type": "code",
   "execution_count": null,
   "id": "b981071c",
   "metadata": {},
   "outputs": [],
   "source": []
  }
 ],
 "metadata": {
  "kernelspec": {
   "display_name": "Python 3",
   "language": "python",
   "name": "python3"
  },
  "language_info": {
   "codemirror_mode": {
    "name": "ipython",
    "version": 3
   },
   "file_extension": ".py",
   "mimetype": "text/x-python",
   "name": "python",
   "nbconvert_exporter": "python",
   "pygments_lexer": "ipython3",
   "version": "3.8.8"
  }
 },
 "nbformat": 4,
 "nbformat_minor": 5
}
